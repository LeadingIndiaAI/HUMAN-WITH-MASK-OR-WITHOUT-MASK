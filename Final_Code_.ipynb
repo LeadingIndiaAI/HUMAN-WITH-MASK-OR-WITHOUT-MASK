{
 "cells": [
  {
   "cell_type": "code",
   "execution_count": 1,
   "metadata": {},
   "outputs": [
    {
     "name": "stdout",
     "output_type": "stream",
     "text": [
      "{'without_mask': 0, 'with_mask': 1}\n",
      "['without_mask', 'with_mask']\n",
      "[0, 1]\n"
     ]
    }
   ],
   "source": [
    "import cv2,os\n",
    "\n",
    "data_path=r\"C:\\Users\\ayush\\Desktop\\last(2)\"\n",
    "categories=os.listdir(data_path)\n",
    "labels=[i for i in range(len(categories))]\n",
    "\n",
    "label_dict=dict(zip(categories,labels)) #empty dictionary\n",
    "\n",
    "print(label_dict)\n",
    "print(categories)\n",
    "print(labels)"
   ]
  },
  {
   "cell_type": "code",
   "execution_count": 2,
   "metadata": {},
   "outputs": [],
   "source": [
    "img_size=100\n",
    "data=[]\n",
    "target=[]\n",
    "\n",
    "\n",
    "for category in categories:\n",
    "    folder_path=os.path.join(data_path,category)\n",
    "    img_names=os.listdir(folder_path)\n",
    "        \n",
    "    for img_name in img_names:\n",
    "        img_path=os.path.join(folder_path,img_name)\n",
    "        img=cv2.imread(img_path)\n",
    "\n",
    "        try:\n",
    "            gray=cv2.cvtColor(img,cv2.COLOR_BGR2GRAY)           \n",
    "            #Coverting the image into gray scale\n",
    "            resized=cv2.resize(gray,(img_size,img_size))\n",
    "            #resizing the gray scale into 50x50, since we need a fixed common size for all the images in the dataset\n",
    "            data.append(resized)\n",
    "            target.append(label_dict[category])\n",
    "            #appending the image and the label(categorized) into the list (dataset)\n",
    "\n",
    "        except Exception as e:\n",
    "            print('Exception:',e)\n",
    "            #if any exception rasied, the exception will be printed here. And pass to the next image"
   ]
  },
  {
   "cell_type": "code",
   "execution_count": 3,
   "metadata": {},
   "outputs": [],
   "source": [
    "import numpy as np\n",
    "\n",
    "data=np.array(data)/255.0\n",
    "data=np.reshape(data,(data.shape[0],img_size,img_size,1))\n",
    "target=np.array(target)\n",
    "\n",
    "from keras.utils import np_utils\n",
    "\n",
    "new_target=np_utils.to_categorical(target)"
   ]
  },
  {
   "cell_type": "code",
   "execution_count": 4,
   "metadata": {},
   "outputs": [],
   "source": [
    "np.save('data',data)\n",
    "np.save('target',new_target)"
   ]
  },
  {
   "cell_type": "code",
   "execution_count": 5,
   "metadata": {},
   "outputs": [],
   "source": [
    "import numpy as np\n",
    "\n",
    "data=np.load('data.npy')\n",
    "target=np.load('target.npy')\n"
   ]
  },
  {
   "cell_type": "code",
   "execution_count": 25,
   "metadata": {},
   "outputs": [],
   "source": [
    "from keras.models import Sequential\n",
    "from keras.layers import Dense,Activation,Flatten,Dropout\n",
    "from keras.layers import Conv2D,MaxPooling2D\n",
    "from keras.callbacks import ModelCheckpoint\n",
    "\n",
    "model=Sequential()\n",
    "\n",
    "model.add(Conv2D(200,(3,3),input_shape=data.shape[1:]))\n",
    "model.add(Activation('relu'))\n",
    "model.add(MaxPooling2D(pool_size=(2,2)))\n",
    "model.add(Dropout(0.5))\n",
    "#The first CNN layer followed by Relu and MaxPooling layers\n",
    "\n",
    "model.add(Conv2D(100,(3,3)))\n",
    "model.add(Activation('relu'))\n",
    "model.add(MaxPooling2D(pool_size=(2,2)))\n",
    "model.add(Dropout(0.5))\n",
    "#The second convolution layer followed by Relu and MaxPooling layers\n",
    "\n",
    "model.add(Flatten())\n",
    "model.add(Dropout(0.5))\n",
    "#Flatten layer to stack the output convolutions from second convolution layer\n",
    "model.add(Dense(50,activation='relu'))\n",
    "#Dense layer of 64 neurons\n",
    "model.add(Dense(2,activation='softmax'))\n",
    "#The Final layer with two outputs for two categories\n",
    "\n",
    "model.compile(loss='categorical_crossentropy',optimizer='adam',metrics=['accuracy'])"
   ]
  },
  {
   "cell_type": "code",
   "execution_count": 26,
   "metadata": {},
   "outputs": [
    {
     "name": "stdout",
     "output_type": "stream",
     "text": [
      "Model: \"sequential_2\"\n",
      "_________________________________________________________________\n",
      "Layer (type)                 Output Shape              Param #   \n",
      "=================================================================\n",
      "conv2d_4 (Conv2D)            (None, 98, 98, 200)       2000      \n",
      "_________________________________________________________________\n",
      "activation_4 (Activation)    (None, 98, 98, 200)       0         \n",
      "_________________________________________________________________\n",
      "max_pooling2d_4 (MaxPooling2 (None, 49, 49, 200)       0         \n",
      "_________________________________________________________________\n",
      "dropout_4 (Dropout)          (None, 49, 49, 200)       0         \n",
      "_________________________________________________________________\n",
      "conv2d_5 (Conv2D)            (None, 47, 47, 100)       180100    \n",
      "_________________________________________________________________\n",
      "activation_5 (Activation)    (None, 47, 47, 100)       0         \n",
      "_________________________________________________________________\n",
      "max_pooling2d_5 (MaxPooling2 (None, 23, 23, 100)       0         \n",
      "_________________________________________________________________\n",
      "dropout_5 (Dropout)          (None, 23, 23, 100)       0         \n",
      "_________________________________________________________________\n",
      "flatten_2 (Flatten)          (None, 52900)             0         \n",
      "_________________________________________________________________\n",
      "dropout_6 (Dropout)          (None, 52900)             0         \n",
      "_________________________________________________________________\n",
      "dense_4 (Dense)              (None, 50)                2645050   \n",
      "_________________________________________________________________\n",
      "dense_5 (Dense)              (None, 2)                 102       \n",
      "=================================================================\n",
      "Total params: 2,827,252\n",
      "Trainable params: 2,827,252\n",
      "Non-trainable params: 0\n",
      "_________________________________________________________________\n"
     ]
    }
   ],
   "source": [
    "model.summary()"
   ]
  },
  {
   "cell_type": "code",
   "execution_count": 27,
   "metadata": {},
   "outputs": [
    {
     "name": "stdout",
     "output_type": "stream",
     "text": [
      "12\n"
     ]
    }
   ],
   "source": [
    "print(len(model.layers))"
   ]
  },
  {
   "cell_type": "code",
   "execution_count": 8,
   "metadata": {},
   "outputs": [],
   "source": [
    "from sklearn.model_selection import train_test_split\n",
    "\n",
    "train_data,test_data,train_target,test_target=train_test_split(data,target,test_size=0.1)"
   ]
  },
  {
   "cell_type": "code",
   "execution_count": 9,
   "metadata": {},
   "outputs": [
    {
     "name": "stdout",
     "output_type": "stream",
     "text": [
      "Epoch 1/50\n",
      "22/22 [==============================] - ETA: 0s - loss: 0.7619 - accuracy: 0.5851WARNING:tensorflow:From c:\\users\\ayush\\appdata\\local\\programs\\python\\python36\\lib\\site-packages\\tensorflow\\python\\ops\\resource_variable_ops.py:1817: calling BaseResourceVariable.__init__ (from tensorflow.python.ops.resource_variable_ops) with constraint is deprecated and will be removed in a future version.\n",
      "Instructions for updating:\n",
      "If using Keras pass *_constraint arguments to layers.\n",
      "INFO:tensorflow:Assets written to: model-001.model\\assets\n",
      "22/22 [==============================] - 25s 1s/step - loss: 0.7619 - accuracy: 0.5851 - val_loss: 0.4304 - val_accuracy: 0.7943\n",
      "Epoch 2/50\n",
      "22/22 [==============================] - ETA: 0s - loss: 0.3909 - accuracy: 0.8283INFO:tensorflow:Assets written to: model-002.model\\assets\n",
      "22/22 [==============================] - 25s 1s/step - loss: 0.3909 - accuracy: 0.8283 - val_loss: 0.3440 - val_accuracy: 0.8514\n",
      "Epoch 3/50\n",
      "22/22 [==============================] - ETA: 0s - loss: 0.2681 - accuracy: 0.8798INFO:tensorflow:Assets written to: model-003.model\\assets\n",
      "22/22 [==============================] - 24s 1s/step - loss: 0.2681 - accuracy: 0.8798 - val_loss: 0.2711 - val_accuracy: 0.8857\n",
      "Epoch 4/50\n",
      "22/22 [==============================] - ETA: 0s - loss: 0.2116 - accuracy: 0.9156INFO:tensorflow:Assets written to: model-004.model\\assets\n",
      "22/22 [==============================] - 25s 1s/step - loss: 0.2116 - accuracy: 0.9156 - val_loss: 0.2446 - val_accuracy: 0.9086\n",
      "Epoch 5/50\n",
      "22/22 [==============================] - 27s 1s/step - loss: 0.1654 - accuracy: 0.9299 - val_loss: 0.2493 - val_accuracy: 0.9086\n",
      "Epoch 6/50\n",
      "22/22 [==============================] - 26s 1s/step - loss: 0.1428 - accuracy: 0.9456 - val_loss: 0.2919 - val_accuracy: 0.9200\n",
      "Epoch 7/50\n",
      "22/22 [==============================] - 22s 1s/step - loss: 0.1032 - accuracy: 0.9585 - val_loss: 0.3673 - val_accuracy: 0.9029\n",
      "Epoch 8/50\n",
      "22/22 [==============================] - 23s 1s/step - loss: 0.0632 - accuracy: 0.9757 - val_loss: 0.3096 - val_accuracy: 0.9029\n",
      "Epoch 9/50\n",
      "22/22 [==============================] - 24s 1s/step - loss: 0.0754 - accuracy: 0.9714 - val_loss: 0.3655 - val_accuracy: 0.9143\n",
      "Epoch 10/50\n",
      "22/22 [==============================] - 21s 974ms/step - loss: 0.0506 - accuracy: 0.9843 - val_loss: 0.3031 - val_accuracy: 0.8914\n",
      "Epoch 11/50\n",
      "22/22 [==============================] - 21s 957ms/step - loss: 0.0363 - accuracy: 0.9928 - val_loss: 0.2790 - val_accuracy: 0.9143\n",
      "Epoch 12/50\n",
      "22/22 [==============================] - 24s 1s/step - loss: 0.0266 - accuracy: 0.9900 - val_loss: 0.2784 - val_accuracy: 0.9200\n",
      "Epoch 13/50\n",
      "22/22 [==============================] - 23s 1s/step - loss: 0.0177 - accuracy: 0.9914 - val_loss: 0.3386 - val_accuracy: 0.9029\n",
      "Epoch 14/50\n",
      "22/22 [==============================] - 22s 992ms/step - loss: 0.0236 - accuracy: 0.9928 - val_loss: 0.3950 - val_accuracy: 0.9200\n",
      "Epoch 15/50\n",
      "22/22 [==============================] - 22s 988ms/step - loss: 0.0211 - accuracy: 0.9943 - val_loss: 0.3495 - val_accuracy: 0.9086\n",
      "Epoch 16/50\n",
      "22/22 [==============================] - 25s 1s/step - loss: 0.0075 - accuracy: 0.9986 - val_loss: 0.4107 - val_accuracy: 0.9143\n",
      "Epoch 17/50\n",
      "22/22 [==============================] - 24s 1s/step - loss: 0.0173 - accuracy: 0.9928 - val_loss: 0.3462 - val_accuracy: 0.9200\n",
      "Epoch 18/50\n",
      "22/22 [==============================] - 23s 1s/step - loss: 0.0081 - accuracy: 0.9986 - val_loss: 0.3599 - val_accuracy: 0.9314\n",
      "Epoch 19/50\n",
      "22/22 [==============================] - 26s 1s/step - loss: 0.0096 - accuracy: 0.9957 - val_loss: 0.5464 - val_accuracy: 0.9200\n",
      "Epoch 20/50\n",
      "22/22 [==============================] - 25s 1s/step - loss: 0.0148 - accuracy: 0.9943 - val_loss: 0.5010 - val_accuracy: 0.9029\n",
      "Epoch 21/50\n",
      "22/22 [==============================] - 23s 1s/step - loss: 0.0033 - accuracy: 1.0000 - val_loss: 0.4681 - val_accuracy: 0.9200\n",
      "Epoch 22/50\n",
      "22/22 [==============================] - 23s 1s/step - loss: 0.0020 - accuracy: 1.0000 - val_loss: 0.5366 - val_accuracy: 0.9143\n",
      "Epoch 23/50\n",
      "22/22 [==============================] - 22s 1s/step - loss: 0.0011 - accuracy: 1.0000 - val_loss: 0.5210 - val_accuracy: 0.9143\n",
      "Epoch 24/50\n",
      "22/22 [==============================] - 23s 1s/step - loss: 0.0011 - accuracy: 1.0000 - val_loss: 0.5292 - val_accuracy: 0.9086\n",
      "Epoch 25/50\n",
      "22/22 [==============================] - 19s 882ms/step - loss: 6.0361e-04 - accuracy: 1.0000 - val_loss: 0.5587 - val_accuracy: 0.9143\n",
      "Epoch 26/50\n",
      "22/22 [==============================] - 22s 991ms/step - loss: 6.5948e-04 - accuracy: 1.0000 - val_loss: 0.5210 - val_accuracy: 0.9143\n",
      "Epoch 27/50\n",
      "22/22 [==============================] - 24s 1s/step - loss: 3.9191e-04 - accuracy: 1.0000 - val_loss: 0.5341 - val_accuracy: 0.9143\n",
      "Epoch 28/50\n",
      "22/22 [==============================] - 24s 1s/step - loss: 0.0025 - accuracy: 0.9986 - val_loss: 0.5915 - val_accuracy: 0.9257\n",
      "Epoch 29/50\n",
      "22/22 [==============================] - 20s 899ms/step - loss: 0.0191 - accuracy: 0.9928 - val_loss: 0.5086 - val_accuracy: 0.8800\n",
      "Epoch 30/50\n",
      "22/22 [==============================] - 22s 988ms/step - loss: 0.0427 - accuracy: 0.9843 - val_loss: 0.4858 - val_accuracy: 0.9086\n",
      "Epoch 31/50\n",
      "22/22 [==============================] - 24s 1s/step - loss: 0.0199 - accuracy: 0.9928 - val_loss: 0.4755 - val_accuracy: 0.9029\n",
      "Epoch 32/50\n",
      "22/22 [==============================] - 23s 1s/step - loss: 0.0406 - accuracy: 0.9886 - val_loss: 0.4772 - val_accuracy: 0.8800\n",
      "Epoch 33/50\n",
      "22/22 [==============================] - 21s 964ms/step - loss: 0.0257 - accuracy: 0.9943 - val_loss: 0.5588 - val_accuracy: 0.8857\n",
      "Epoch 34/50\n",
      "22/22 [==============================] - 20s 891ms/step - loss: 0.0125 - accuracy: 0.9957 - val_loss: 0.7012 - val_accuracy: 0.8914\n",
      "Epoch 35/50\n",
      "22/22 [==============================] - 22s 1s/step - loss: 0.0159 - accuracy: 0.9943 - val_loss: 0.5309 - val_accuracy: 0.8971\n",
      "Epoch 36/50\n",
      "22/22 [==============================] - 23s 1s/step - loss: 0.0023 - accuracy: 1.0000 - val_loss: 0.5557 - val_accuracy: 0.8914\n",
      "Epoch 37/50\n",
      "22/22 [==============================] - 23s 1s/step - loss: 0.0012 - accuracy: 1.0000 - val_loss: 0.5349 - val_accuracy: 0.8971\n",
      "Epoch 38/50\n",
      "22/22 [==============================] - 22s 1s/step - loss: 0.0144 - accuracy: 0.9957 - val_loss: 0.6213 - val_accuracy: 0.8914\n",
      "Epoch 39/50\n",
      "22/22 [==============================] - 23s 1s/step - loss: 0.0167 - accuracy: 0.9928 - val_loss: 0.6076 - val_accuracy: 0.8857\n",
      "Epoch 40/50\n",
      "22/22 [==============================] - 22s 992ms/step - loss: 0.0120 - accuracy: 0.9971 - val_loss: 0.5947 - val_accuracy: 0.9086\n",
      "Epoch 41/50\n",
      "22/22 [==============================] - 21s 949ms/step - loss: 0.0024 - accuracy: 1.0000 - val_loss: 0.6043 - val_accuracy: 0.9086\n",
      "Epoch 42/50\n",
      "22/22 [==============================] - 22s 1s/step - loss: 0.0010 - accuracy: 1.0000 - val_loss: 0.6486 - val_accuracy: 0.9143\n",
      "Epoch 43/50\n",
      "22/22 [==============================] - 22s 1s/step - loss: 0.0015 - accuracy: 1.0000 - val_loss: 0.6387 - val_accuracy: 0.9143\n",
      "Epoch 44/50\n",
      "22/22 [==============================] - 22s 994ms/step - loss: 0.0037 - accuracy: 1.0000 - val_loss: 0.6599 - val_accuracy: 0.9143\n",
      "Epoch 45/50\n",
      "22/22 [==============================] - 23s 1s/step - loss: 0.0011 - accuracy: 1.0000 - val_loss: 0.6846 - val_accuracy: 0.9086\n",
      "Epoch 46/50\n",
      "22/22 [==============================] - 21s 951ms/step - loss: 9.9351e-04 - accuracy: 1.0000 - val_loss: 0.6767 - val_accuracy: 0.9086\n",
      "Epoch 47/50\n",
      "22/22 [==============================] - 21s 945ms/step - loss: 2.6177e-04 - accuracy: 1.0000 - val_loss: 0.6925 - val_accuracy: 0.9029\n",
      "Epoch 48/50\n",
      "22/22 [==============================] - 21s 939ms/step - loss: 0.0183 - accuracy: 0.9943 - val_loss: 0.9059 - val_accuracy: 0.8629\n",
      "Epoch 49/50\n",
      "22/22 [==============================] - 21s 959ms/step - loss: 0.0311 - accuracy: 0.9886 - val_loss: 0.5558 - val_accuracy: 0.9200\n",
      "Epoch 50/50\n",
      "22/22 [==============================] - 21s 956ms/step - loss: 0.0091 - accuracy: 0.9986 - val_loss: 0.7233 - val_accuracy: 0.9029\n"
     ]
    }
   ],
   "source": [
    "checkpoint = ModelCheckpoint('model-{epoch:03d}.model',monitor='val_loss',verbose=0,save_best_only=True,mode='auto')\n",
    "history=model.fit(train_data,train_target,epochs=50,callbacks=[checkpoint],validation_split=0.2)\n"
   ]
  },
  {
   "cell_type": "code",
   "execution_count": 10,
   "metadata": {},
   "outputs": [
    {
     "data": {
      "image/png": "[encoded data removed]",
      "text/plain": [
       "<Figure size 432x288 with 1 Axes>"
      ]
     },
     "metadata": {
      "needs_background": "light"
     },
     "output_type": "display_data"
    }
   ],
   "source": [
    "from matplotlib import pyplot as plt\n",
    "\n",
    "plt.plot(history.history['loss'],'r',label='training loss')\n",
    "plt.plot(history.history['val_loss'],label='validation loss')\n",
    "plt.xlabel('# epochs')\n",
    "plt.ylabel('loss')\n",
    "plt.legend()\n",
    "plt.show()"
   ]
  },
  {
   "cell_type": "code",
   "execution_count": 11,
   "metadata": {},
   "outputs": [
    {
     "data": {
      "image/png": "[encoded data removed]",
      "text/plain": [
       "<Figure size 432x288 with 1 Axes>"
      ]
     },
     "metadata": {
      "needs_background": "light"
     },
     "output_type": "display_data"
    }
   ],
   "source": [
    "plt.plot(history.history['accuracy'],'r',label='training accuracy')\n",
    "plt.plot(history.history['val_accuracy'],label='validation accuracy')\n",
    "plt.xlabel('# epochs')\n",
    "plt.ylabel('acc')\n",
    "plt.legend()\n",
    "plt.show()"
   ]
  },
  {
   "cell_type": "code",
   "execution_count": 12,
   "metadata": {},
   "outputs": [
    {
     "name": "stdout",
     "output_type": "stream",
     "text": [
      "4/4 [==============================] - 0s 111ms/step - loss: 0.7022 - accuracy: 0.8878\n",
      "[0.7022186517715454, 0.8877550959587097]\n"
     ]
    }
   ],
   "source": [
    "print(model.evaluate(test_data,test_target))"
   ]
  },
  {
   "cell_type": "code",
   "execution_count": 13,
   "metadata": {},
   "outputs": [],
   "source": [
    "from keras.models import load_model\n",
    "import cv2\n",
    "import numpy as np"
   ]
  },
  {
   "cell_type": "code",
   "execution_count": 14,
   "metadata": {},
   "outputs": [
    {
     "name": "stdout",
     "output_type": "stream",
     "text": [
      "INFO:tensorflow:Assets written to: model-047.model\\assets\n"
     ]
    }
   ],
   "source": [
    "model.save(\"model-047.model\")"
   ]
  },
  {
   "cell_type": "code",
   "execution_count": 21,
   "metadata": {},
   "outputs": [],
   "source": [
    "model = load_model('model-047.model')\n",
    "\n",
    "face_clsfr=cv2.CascadeClassifier(r'C:\\Users\\ayush\\Desktop\\internship_project\\haarcascade_frontalface_default.xml')\n",
    "\n",
    "source=cv2.VideoCapture(0)\n",
    "\n",
    "labels_dict={0:'MASK',1:'NOMASK'}\n",
    "color_dict={0:(0,255,0),1:(0,0,255)}\n",
    "while(True):\n",
    "\n",
    "    ret,img=source.read()\n",
    "    gray=cv2.cvtColor(img,cv2.COLOR_BGR2GRAY)\n",
    "    faces=face_clsfr.detectMultiScale(gray,1.3,5)  \n",
    "\n",
    "    for (x,y,w,h) in faces:\n",
    "    \n",
    "        face_img=gray[y:y+w,x:x+w]\n",
    "        resized=cv2.resize(face_img,(100,100))\n",
    "        normalized=resized/255.0\n",
    "        reshaped=np.reshape(normalized,(1,100,100,1))\n",
    "        result=model.predict(reshaped)\n",
    "\n",
    "        label=np.argmax(result,axis=1)[0]\n",
    "        acc=round(np.max(result,axis=1)[0]*100,2)\n",
    "      \n",
    "        cv2.rectangle(img,(x,y),(x+w,y+h),color_dict[label],2)\n",
    "        cv2.rectangle(img,(x,y-40),(x+w,y),color_dict[label],-1)\n",
    "        cv2.putText(img, labels_dict[label], (x, y-10),cv2.FONT_HERSHEY_SIMPLEX,0.8,(255,255,255),2)\n",
    "        cv2.putText(img,str(acc),(x+150,y-10),cv2.FONT_HERSHEY_SIMPLEX,0.8,(255,255,255),2)\n",
    "        cv2.putText(img,labels_dict[label],(x,y-10),cv2.FONT_HERSHEY_SIMPLEX,0.8,(255,255,255),2)\n",
    "        \n",
    "        \n",
    "        \n",
    "    cv2.imshow('LIVE',img)\n",
    "    key=cv2.waitKey(1)\n",
    "    \n",
    "    if(key==27):\n",
    "        break\n",
    "        \n",
    "cv2.destroyAllWindows()\n",
    "source.release()\n",
    "\n"
   ]
  },
  {
   "cell_type": "code",
   "execution_count": null,
   "metadata": {},
   "outputs": [],
   "source": []
  }
 ],
 "metadata": {
  "kernelspec": {
   "display_name": "Python 3",
   "language": "python",
   "name": "python3"
  },
  "language_info": {
   "codemirror_mode": {
    "name": "ipython",
    "version": 3
   },
   "file_extension": ".py",
   "mimetype": "text/x-python",
   "name": "python",
   "nbconvert_exporter": "python",
   "pygments_lexer": "ipython3",
   "version": "3.6.6"
  }
 },
 "nbformat": 4,
 "nbformat_minor": 4
}
